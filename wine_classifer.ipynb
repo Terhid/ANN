{
 "cells": [
  {
   "cell_type": "code",
   "execution_count": 1,
   "metadata": {
    "collapsed": true
   },
   "outputs": [],
   "source": [
    "import pandas as pd\n",
    "import numpy as np\n",
    "import matplotlib.pyplot as plt\n",
    "from sklearn.neural_network import MLPClassifier\n",
    "from sklearn import preprocessing\n",
    "from sklearn.metrics import confusion_matrix\n",
    "from sklearn.model_selection import train_test_split\n",
    "from sklearn.model_selection import GridSearchCV\n",
    "from sklearn.metrics import accuracy_score"
   ]
  },
  {
   "cell_type": "code",
   "execution_count": 2,
   "metadata": {},
   "outputs": [],
   "source": [
    "def load_data(path):\n",
    "    \"\"\"\n",
    "    Loads data into dataframe\n",
    "    :param path: a full path to the file\n",
    "    :return: dataframe\n",
    "    \"\"\"\n",
    "    raw_data = pd.read_csv(path, sep=';')\n",
    "    df = raw_data.copy()\n",
    "    dtypes = {col: float for col in df.columns}\n",
    "    data = pd.read_csv(path, dtype=dtypes, sep=';')\n",
    "    df = data.copy()\n",
    "    return df\n",
    "df = load_data(r'D:\\MAI\\ANN\\Project\\winequality_data(1)\\winequality-white.csv')"
   ]
  },
  {
   "cell_type": "code",
   "execution_count": 3,
   "metadata": {},
   "outputs": [],
   "source": [
    "usable = df[(df['quality'] == 6) | (df['quality'] == 7)]\n",
    "def scale_data(df, scaler=preprocessing.StandardScaler()):\n",
    "    \"\"\"\n",
    "    scales the dataframe using the scaler from sklearn library.\n",
    "    :param df: dataframe\n",
    "    :param scaler: one of the scaling methods available in sklearn.preprocessing in for preprocessing.Scaler(). \n",
    "    Possible values: preprocessing.RobustScaler(), preprocessing.MaxAbsScaler(), preprocessing.MinMaxScaler(), preprocessing.StandardScaler()\n",
    "    :return: scaled dataframe\n",
    "    \"\"\"\n",
    "    features = df.copy().drop('quality', axis=1)\n",
    "    target = df.copy()[['quality']]\n",
    "    df_internal = pd.DataFrame(scaler.fit_transform(features), columns=features.columns, index=features.index)\n",
    "    df_out = pd.concat([df_internal, target], axis=1)  \n",
    "    return df_out\n",
    "usable2 = scale_data(usable)"
   ]
  },
  {
   "cell_type": "code",
   "execution_count": 4,
   "metadata": {},
   "outputs": [
    {
     "data": {
      "text/plain": [
       "0.714100064977258"
      ]
     },
     "execution_count": 4,
     "metadata": {},
     "output_type": "execute_result"
    }
   ],
   "source": [
    "len(usable2[usable2['quality'] == 6])/len(usable2)"
   ]
  },
  {
   "cell_type": "code",
   "execution_count": 5,
   "metadata": {},
   "outputs": [],
   "source": [
    "train = usable2[:usable2.shape[0]*9//10]\n",
    "validate = usable2[usable2.shape[0]*9//10:]\n",
    "features = train.copy().drop('quality', axis=1)\n",
    "target = train.copy()[['quality']]\n",
    "features_validate = validate.copy().drop('quality', axis=1)\n",
    "target_validate = validate.copy()[['quality']]"
   ]
  },
  {
   "cell_type": "code",
   "execution_count": 7,
   "metadata": {},
   "outputs": [
    {
     "data": {
      "text/plain": [
       "MLPClassifier(activation='relu', alpha=0.0001, batch_size='auto', beta_1=0.9,\n       beta_2=0.999, early_stopping=False, epsilon=1e-08,\n       hidden_layer_sizes=(100,), learning_rate='constant',\n       learning_rate_init=0.001, max_iter=10000, momentum=0.9,\n       nesterovs_momentum=True, power_t=0.5, random_state=0, shuffle=True,\n       solver='adam', tol=0.0001, validation_fraction=0.1, verbose=0,\n       warm_start=False)"
      ]
     },
     "execution_count": 7,
     "metadata": {},
     "output_type": "execute_result"
    }
   ],
   "source": [
    "mlp = MLPClassifier(verbose=0, random_state=0, max_iter=10000)\n",
    "mlp.fit(features, target.values.ravel())"
   ]
  },
  {
   "cell_type": "code",
   "execution_count": 8,
   "metadata": {},
   "outputs": [],
   "source": [
    "prediction = mlp.predict(features_validate)"
   ]
  },
  {
   "cell_type": "code",
   "execution_count": 9,
   "metadata": {},
   "outputs": [],
   "source": [
    "conf_matrix = confusion_matrix(target_validate, prediction)"
   ]
  },
  {
   "cell_type": "code",
   "execution_count": 10,
   "metadata": {},
   "outputs": [
    {
     "data": {
      "text/plain": [
       "array([[187,  49],\n       [ 50,  22]])"
      ]
     },
     "execution_count": 10,
     "metadata": {},
     "output_type": "execute_result"
    }
   ],
   "source": [
    "conf_matrix"
   ]
  },
  {
   "cell_type": "code",
   "execution_count": 11,
   "metadata": {},
   "outputs": [
    {
     "data": {
      "text/plain": [
       "67.857142857142861"
      ]
     },
     "execution_count": 11,
     "metadata": {},
     "output_type": "execute_result"
    }
   ],
   "source": [
    "CCR = accuracy_score(target_validate, prediction)*100\n",
    "CCR"
   ]
  },
  {
   "cell_type": "code",
   "execution_count": 12,
   "metadata": {},
   "outputs": [],
   "source": [
    "layer_sizes = []\n",
    "for x in range(1, 4):\n",
    "    for y in range(70, 151, 20):\n",
    "        layer_sizes.append((y, x))"
   ]
  },
  {
   "cell_type": "code",
   "execution_count": 194,
   "metadata": {},
   "outputs": [
    {
     "data": {
      "text/plain": [
       "GridSearchCV(cv=None, error_score='raise',\n       estimator=MLPClassifier(activation='relu', alpha=0.0001, batch_size='auto', beta_1=0.9,\n       beta_2=0.999, early_stopping=False, epsilon=1e-08,\n       hidden_layer_sizes=(100, 5), learning_rate='constant',\n       learning_rate_init=0.001, max_iter=10000, momentum=0.9,\n       nesterovs_momentum=True, power_t=0.5, random_state=0, shuffle=True,\n       solver='adam', tol=0.0001, validation_fraction=0.1, verbose=0,\n       warm_start=False),\n       fit_params={}, iid=True, n_jobs=1,\n       param_grid=[{'activation': ['identity', 'logistic', 'tanh', 'relu'], 'solver': ['lbfgs', 'sgd', 'adam'], 'early_stopping': [True, False], 'hidden_layer_sizes': [(70, 1), (90, 1), (110, 1), (130, 1), (150, 1), (70, 2), (90, 2), (110, 2), (130, 2), (150, 2), (70, 3), (90, 3), (110, 3), (130, 3), (150, 3)]}],\n       pre_dispatch='2*n_jobs', refit=True, return_train_score=True,\n       scoring='accuracy', verbose=0)"
      ]
     },
     "execution_count": 194,
     "metadata": {},
     "output_type": "execute_result"
    }
   ],
   "source": [
    "parameters = [{'activation': ['identity', 'logistic', 'tanh', 'relu'], 'solver': ['lbfgs', 'sgd', 'adam'],\n",
    "              'early_stopping': [True, False], 'hidden_layer_sizes': layer_sizes}]\n",
    "clf = GridSearchCV(mlp, parameters, scoring='accuracy')\n",
    "clf.fit(features, target.values.ravel())"
   ]
  },
  {
   "cell_type": "code",
   "execution_count": 195,
   "metadata": {},
   "outputs": [
    {
     "name": "stdout",
     "output_type": "stream",
     "text": [
      "{'activation': 'logistic', 'early_stopping': False, 'hidden_layer_sizes': (70, 2), 'solver': 'adam'}\n"
     ]
    }
   ],
   "source": [
    "print(clf.best_params_)"
   ]
  },
  {
   "cell_type": "code",
   "execution_count": 42,
   "metadata": {},
   "outputs": [
    {
     "data": {
      "text/plain": [
       "MLPClassifier(activation='logistic', alpha=0.0001, batch_size='auto',\n       beta_1=0.9, beta_2=0.999, early_stopping=False, epsilon=1e-08,\n       hidden_layer_sizes=(70, 2), learning_rate='constant',\n       learning_rate_init=0.001, max_iter=10000, momentum=0.9,\n       nesterovs_momentum=True, power_t=0.5, random_state=0, shuffle=True,\n       solver='adam', tol=0.0001, validation_fraction=0.1, verbose=0,\n       warm_start=False)"
      ]
     },
     "execution_count": 42,
     "metadata": {},
     "output_type": "execute_result"
    }
   ],
   "source": [
    "mlp = MLPClassifier(verbose=0, random_state=0, max_iter=10000, hidden_layer_sizes=(70,2), activation='logistic')\n",
    "mlp.fit(features, target.values.ravel())"
   ]
  },
  {
   "cell_type": "code",
   "execution_count": 43,
   "metadata": {},
   "outputs": [
    {
     "data": {
      "text/plain": [
       "73.701298701298697"
      ]
     },
     "execution_count": 43,
     "metadata": {},
     "output_type": "execute_result"
    }
   ],
   "source": [
    "prediction = mlp.predict(features_validate)\n",
    "CCR = accuracy_score(target_validate, prediction)*100\n",
    "CCR"
   ]
  },
  {
   "cell_type": "code",
   "execution_count": 44,
   "metadata": {},
   "outputs": [
    {
     "data": {
      "text/plain": [
       "array([[201,  35],\n       [ 46,  26]])"
      ]
     },
     "execution_count": 44,
     "metadata": {},
     "output_type": "execute_result"
    }
   ],
   "source": [
    "conf_matrix = confusion_matrix(target_validate, prediction)\n",
    "conf_matrix"
   ]
  },
  {
   "cell_type": "code",
   "execution_count": 90,
   "metadata": {},
   "outputs": [
    {
     "data": {
      "image/png": "[encoded data removed]",
      "text/plain": [
       "<matplotlib.figure.Figure at 0x3bc6afc080>"
      ]
     },
     "metadata": {},
     "output_type": "display_data"
    },
    {
     "data": {
      "image/png": "[encoded data removed]",
      "text/plain": [
       "<matplotlib.figure.Figure at 0x3bc3fe5eb8>"
      ]
     },
     "metadata": {},
     "output_type": "display_data"
    },
    {
     "name": "stdout",
     "output_type": "stream",
     "text": [
      "3 0.537693103008\n"
     ]
    }
   ],
   "source": [
    "def principal_comp_analysis(df, n=1.0, k=None, explained_variance=None, plot_variance=False, plot_loadings=False, plot_total_variance=False):\n",
    "    \"\"\"\n",
    "    Does PCA on a dataframe with number of components chosen such that all used components explain at least n variance each.\n",
    "    Default option.\n",
    "    Alternatively, one can specify the number of components manually.\n",
    "    Alternatively, one can specify the total varaince that must be explained by principal components\n",
    "    Explicit specification of number of components takes precedence over explained variance,\n",
    "    which takes precedence over n variance explained by one component.\n",
    "    Specify ONLY one of (n,k,explained_variance).\n",
    "    :param df: dataframe\n",
    "    :param n: float, minimum variance that is explained by each principal component.\n",
    "    :param k: int, number of kept principal components.\n",
    "    :param explained_variance: float in <0,1>, total variance that must be explained by principal components.\n",
    "    :param plot_variance: bool, if True, function plots variance explained by all kept components, 'scree plot'.\n",
    "    :param plot_loadings: bool, if True function plots component loadings - correlation between components and features.\n",
    "    :return: (dataframe) with principal components,(int) number of principal components,(float) explained variance\n",
    "    \"\"\"\n",
    "    from sklearn.decomposition import PCA\n",
    "    df_scaled = df.copy()\n",
    "    pca = PCA()\n",
    "    pca.fit(df_scaled)\n",
    "    if k is None and explained_variance is None:\n",
    "        k = 0\n",
    "        for index in range(len(pca.explained_variance_)):\n",
    "            if pca.explained_variance_[index] >= n:\n",
    "                k = index + 1\n",
    "            else:\n",
    "                break\n",
    "    elif k is None:\n",
    "        k = 0\n",
    "        for index in range(len(pca.explained_variance_)):\n",
    "            if pca.explained_variance_ratio_[:index].sum() < explained_variance:\n",
    "                k = index + 1\n",
    "            else:\n",
    "                break\n",
    "    pca = PCA(n_components=k)\n",
    "    df_reduced = pd.DataFrame(pca.fit_transform(df_scaled), columns=[str(x) for x in range(k)], index=df_scaled.index)\n",
    "    variance_explained = pca.explained_variance_ratio_.sum()\n",
    "    if plot_variance:\n",
    "        plt.figure('explained variance')\n",
    "        plt.title('Explained variance')\n",
    "        plt.xlabel('component number')\n",
    "        plt.ylabel('% of explained variance')\n",
    "        plt.plot(pca.explained_variance_ratio_)\n",
    "        plt.savefig('explained_variance.png')\n",
    "        plt.show()\n",
    "        plt.close()\n",
    "    if plot_loadings:\n",
    "        principal_components = pd.DataFrame(pca.components_).T\n",
    "        for i in range(len(principal_components.columns)):\n",
    "            plt.figure(str(i) + 'th principal component loading')\n",
    "            plt.title(str(i) + 'th principal component loading')\n",
    "            plt.xlabel('feature number')\n",
    "            plt.ylabel('correlation between the feature and the component')\n",
    "            plt.scatter(list(range(len(df.columns))), principal_components[[i]])\n",
    "            plt.savefig(str(i) + ' principal_component_loading.png')\n",
    "            plt.close()\n",
    "    if plot_total_variance:\n",
    "        total_variance = np.cumsum(pca.explained_variance_ratio_)\n",
    "        plt.figure('cumulative variance explained')\n",
    "        plt.title('Cumulative variance explained')\n",
    "        plt.xlabel('component number')\n",
    "        plt.ylabel('% of explained variance')\n",
    "        plt.plot(total_variance)\n",
    "        plt.show()\n",
    "    plt.close('all')\n",
    "    return df_reduced, k, variance_explained\n",
    "\n",
    "df_reduced3, number_of_components, variance_explained = principal_comp_analysis(usable2, plot_variance=True, k=3 ,plot_total_variance=True)\n",
    "print(number_of_components, variance_explained)"
   ]
  },
  {
   "cell_type": "code",
   "execution_count": 86,
   "metadata": {},
   "outputs": [],
   "source": [
    "mlp = MLPClassifier(verbose=0, max_iter=10000, hidden_layer_sizes=(70,2))\n",
    "CCRs = []\n",
    "conf_matrices = []\n",
    "for n in range(2, 10):\n",
    "    features = usable2.copy().drop('quality', axis=1)\n",
    "    target = usable2.copy()[['quality']]\n",
    "    df_reduced, number_of_components, variance_explained = principal_comp_analysis(features, k=n)\n",
    "    df_out = pd.DataFrame(pd.concat([df_reduced, target], axis=1))\n",
    "    train = df_out[:df_out.shape[0]*9//10]\n",
    "    validate = df_out[df_out.shape[0]*9//10:]\n",
    "    features = train.copy().drop('quality', axis=1)\n",
    "    target = train.copy()[['quality']]\n",
    "    features_validate = validate.copy().drop('quality', axis=1)\n",
    "    target_validate = validate.copy()[['quality']]\n",
    "    mlp.fit(features, target.values.ravel())\n",
    "    prediction = mlp.predict(features_validate)\n",
    "    CCRs.append(accuracy_score(target_validate, prediction)*100)\n",
    "    conf_matrices.append(confusion_matrix(target_validate, prediction))"
   ]
  },
  {
   "cell_type": "code",
   "execution_count": 87,
   "metadata": {},
   "outputs": [
    {
     "data": {
      "text/plain": [
       "[70.779220779220779,\n 76.623376623376629,\n 69.480519480519476,\n 69.155844155844164,\n 71.753246753246756,\n 64.610389610389603,\n 67.857142857142861,\n 71.753246753246756]"
      ]
     },
     "execution_count": 87,
     "metadata": {},
     "output_type": "execute_result"
    }
   ],
   "source": [
    "CCRs"
   ]
  },
  {
   "cell_type": "code",
   "execution_count": 88,
   "metadata": {},
   "outputs": [
    {
     "name": "stdout",
     "output_type": "stream",
     "text": [
      "[[192  44]\n [ 46  26]]\n[[236   0]\n [ 72   0]]\n[[185  51]\n [ 43  29]]\n[[189  47]\n [ 48  24]]\n[[191  45]\n [ 42  30]]\n[[168  68]\n [ 41  31]]\n[[170  66]\n [ 33  39]]\n[[193  43]\n [ 44  28]]\n"
     ]
    }
   ],
   "source": [
    "for matrix in conf_matrices:\n",
    "    print(matrix)"
   ]
  }
 ],
 "metadata": {
  "kernelspec": {
   "display_name": "Python 2",
   "language": "python",
   "name": "python2"
  },
  "language_info": {
   "codemirror_mode": {
    "name": "ipython",
    "version": 2.0
   },
   "file_extension": ".py",
   "mimetype": "text/x-python",
   "name": "python",
   "nbconvert_exporter": "python",
   "pygments_lexer": "ipython2",
   "version": "2.7.6"
  }
 },
 "nbformat": 4,
 "nbformat_minor": 0
}
